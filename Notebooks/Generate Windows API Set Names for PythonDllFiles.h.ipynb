{
 "cells": [
  {
   "cell_type": "code",
   "execution_count": null,
   "metadata": {
    "collapsed": true
   },
   "outputs": [],
   "source": [
    "#  for f in $(ls *.dll | tr '[:upper:]' '[:lower:]'); do _f=$(echo $f | sed 's/-/ /g'); echo $_f, L\\\"$f\\\" ; done  > ~/tmp/api.txt"
   ]
  },
  {
   "cell_type": "code",
   "execution_count": 1,
   "metadata": {
    "collapsed": true
   },
   "outputs": [],
   "source": [
    "t = open('api.txt', 'r').read()"
   ]
  },
  {
   "cell_type": "code",
   "execution_count": 3,
   "metadata": {
    "collapsed": false
   },
   "outputs": [],
   "source": [
    "lines = t.splitlines()"
   ]
  },
  {
   "cell_type": "code",
   "execution_count": 4,
   "metadata": {
    "collapsed": true
   },
   "outputs": [],
   "source": [
    "parts = [ l.split(',') for l in lines ]"
   ]
  },
  {
   "cell_type": "code",
   "execution_count": 9,
   "metadata": {
    "collapsed": false
   },
   "outputs": [],
   "source": [
    "parts = [ (n.replace('.', ' ').split(' '), p) for (n, p) in parts ]"
   ]
  },
  {
   "cell_type": "code",
   "execution_count": 10,
   "metadata": {
    "collapsed": false
   },
   "outputs": [
    {
     "data": {
      "text/plain": [
       "(['api', 'ms', 'win', 'base', 'util', 'l1', '1', '0', 'dll'],\n",
       " ' L\"api-ms-win-base-util-l1-1-0.dll\"')"
      ]
     },
     "execution_count": 10,
     "metadata": {},
     "output_type": "execute_result"
    }
   ],
   "source": [
    "parts[0]"
   ]
  },
  {
   "cell_type": "code",
   "execution_count": 7,
   "metadata": {
    "collapsed": false
   },
   "outputs": [
    {
     "data": {
      "text/plain": [
       "'Api ms win base util l1 1 0.dll'"
      ]
     },
     "execution_count": 7,
     "metadata": {},
     "output_type": "execute_result"
    }
   ],
   "source": [
    "parts[0][0].capitalize()"
   ]
  },
  {
   "cell_type": "code",
   "execution_count": 8,
   "metadata": {
    "collapsed": true
   },
   "outputs": [],
   "source": [
    "newlist = []"
   ]
  },
  {
   "cell_type": "code",
   "execution_count": 11,
   "metadata": {
    "collapsed": true
   },
   "outputs": [],
   "source": [
    "parts = [ (''.join(n.capitalize() for n in name), p) for (name, p) in parts ]"
   ]
  },
  {
   "cell_type": "code",
   "execution_count": 15,
   "metadata": {
    "collapsed": true
   },
   "outputs": [],
   "source": [
    "parts = [ ('%sW' % n, p) for (n, p) in parts ]"
   ]
  },
  {
   "cell_type": "code",
   "execution_count": 16,
   "metadata": {
    "collapsed": false
   },
   "outputs": [],
   "source": [
    "lines = [ \"DLL(%s,%s);\" % p for p in parts ]"
   ]
  },
  {
   "cell_type": "code",
   "execution_count": 18,
   "metadata": {
    "collapsed": true
   },
   "outputs": [],
   "source": [
    "from tpn.clipboard import *"
   ]
  },
  {
   "cell_type": "code",
   "execution_count": 20,
   "metadata": {
    "collapsed": false
   },
   "outputs": [],
   "source": [
    "#cb('\\n'.join(lines))"
   ]
  },
  {
   "cell_type": "code",
   "execution_count": 29,
   "metadata": {
    "collapsed": true
   },
   "outputs": [],
   "source": [
    "template = \"\"\"\\\n",
    "static CONST PUNICODE_STRING PlatformDllFilesW[] = {\n",
    "    %s\n",
    "};\n",
    "\"\"\""
   ]
  },
  {
   "cell_type": "code",
   "execution_count": 23,
   "metadata": {
    "collapsed": true
   },
   "outputs": [],
   "source": [
    "files = [ f[0] for f in parts ]"
   ]
  },
  {
   "cell_type": "code",
   "execution_count": 25,
   "metadata": {
    "collapsed": true
   },
   "outputs": [],
   "source": [
    "names = [ '(PUNICODE_STRING)&%s,' % f for f in files ]"
   ]
  },
  {
   "cell_type": "code",
   "execution_count": 27,
   "metadata": {
    "collapsed": true
   },
   "outputs": [],
   "source": [
    "txt = '\\n    '.join(names)"
   ]
  },
  {
   "cell_type": "code",
   "execution_count": 31,
   "metadata": {
    "collapsed": false
   },
   "outputs": [
    {
     "name": "stdout",
     "output_type": "stream",
     "text": [
      "copied 5150 characters into clipboard...\n"
     ]
    },
    {
     "data": {
      "text/plain": [
       "u'static CONST PUNICODE_STRING PlatformDllFilesW[] = {\\n    (PUNICODE_STRING)&ApiMsWinBaseUtilL110DllW,\\n    (PUNICODE_STRING)&ApiMsWinCoreComL110DllW,\\n    (PUNICODE_STRING)&ApiMsWinCoreCommL110DllW,\\n    (PUNICODE_STRING)&ApiMsWinCoreConsoleL110DllW,\\n    (PUNICODE_STRING)&ApiMsWinCoreDatetimeL110DllW,\\n    (PUNICODE_STRING)&ApiMsWinCoreDatetimeL111DllW,\\n    (PUNICODE_STRING)&ApiMsWinCoreDebugL110DllW,\\n    (PUNICODE_STRING)&ApiMsWinCoreDebugL111DllW,\\n    (PUNICODE_STRING)&ApiMsWinCoreDelayloadL110DllW,\\n    (PUNICODE_STRING)&ApiMsWinCoreErrorhandlingL110DllW,\\n    (PUNICODE_STRING)&ApiMsWinCoreErrorhandlingL111DllW,\\n    (PUNICODE_STRING)&ApiMsWinCoreFibersL110DllW,\\n    (PUNICODE_STRING)&ApiMsWinCoreFibersL111DllW,\\n    (PUNICODE_STRING)&ApiMsWinCoreFileL110DllW,\\n    (PUNICODE_STRING)&ApiMsWinCoreFileL120DllW,\\n    (PUNICODE_STRING)&ApiMsWinCoreFileL121DllW,\\n    (PUNICODE_STRING)&ApiMsWinCoreFileL210DllW,\\n    (PUNICODE_STRING)&ApiMsWinCoreFileL211DllW,\\n    (PUNICODE_STRING)&ApiMsWinCoreHandleL110DllW,\\n    (PUNICODE_STRING)&ApiMsWinCoreHeapL110DllW,\\n    (PUNICODE_STRING)&ApiMsWinCoreHeapObsoleteL110DllW,\\n    (PUNICODE_STRING)&ApiMsWinCoreInterlockedL110DllW,\\n    (PUNICODE_STRING)&ApiMsWinCoreIoL110DllW,\\n    (PUNICODE_STRING)&ApiMsWinCoreIoL111DllW,\\n    (PUNICODE_STRING)&ApiMsWinCoreKernel32LegacyL110DllW,\\n    (PUNICODE_STRING)&ApiMsWinCoreKernel32LegacyL111DllW,\\n    (PUNICODE_STRING)&ApiMsWinCoreKernel32PrivateL110DllW,\\n    (PUNICODE_STRING)&ApiMsWinCoreKernel32PrivateL111DllW,\\n    (PUNICODE_STRING)&ApiMsWinCoreLibraryloaderL110DllW,\\n    (PUNICODE_STRING)&ApiMsWinCoreLibraryloaderL111DllW,\\n    (PUNICODE_STRING)&ApiMsWinCoreLocalizationL120DllW,\\n    (PUNICODE_STRING)&ApiMsWinCoreLocalizationL121DllW,\\n    (PUNICODE_STRING)&ApiMsWinCoreLocalizationObsoleteL120DllW,\\n    (PUNICODE_STRING)&ApiMsWinCoreMemoryL110DllW,\\n    (PUNICODE_STRING)&ApiMsWinCoreMemoryL111DllW,\\n    (PUNICODE_STRING)&ApiMsWinCoreMemoryL112DllW,\\n    (PUNICODE_STRING)&ApiMsWinCoreNamedpipeL110DllW,\\n    (PUNICODE_STRING)&ApiMsWinCorePrivateprofileL110DllW,\\n    (PUNICODE_STRING)&ApiMsWinCorePrivateprofileL111DllW,\\n    (PUNICODE_STRING)&ApiMsWinCoreProcessenvironmentL110DllW,\\n    (PUNICODE_STRING)&ApiMsWinCoreProcessenvironmentL120DllW,\\n    (PUNICODE_STRING)&ApiMsWinCoreProcessthreadsL110DllW,\\n    (PUNICODE_STRING)&ApiMsWinCoreProcessthreadsL111DllW,\\n    (PUNICODE_STRING)&ApiMsWinCoreProcessthreadsL112DllW,\\n    (PUNICODE_STRING)&ApiMsWinCoreProcesstopologyObsoleteL110DllW,\\n    (PUNICODE_STRING)&ApiMsWinCoreProfileL110DllW,\\n    (PUNICODE_STRING)&ApiMsWinCoreRealtimeL110DllW,\\n    (PUNICODE_STRING)&ApiMsWinCoreRegistryL110DllW,\\n    (PUNICODE_STRING)&ApiMsWinCoreRegistryL210DllW,\\n    (PUNICODE_STRING)&ApiMsWinCoreRtlsupportL110DllW,\\n    (PUNICODE_STRING)&ApiMsWinCoreShlwapiLegacyL110DllW,\\n    (PUNICODE_STRING)&ApiMsWinCoreShlwapiObsoleteL110DllW,\\n    (PUNICODE_STRING)&ApiMsWinCoreShutdownL110DllW,\\n    (PUNICODE_STRING)&ApiMsWinCoreStringansiL110DllW,\\n    (PUNICODE_STRING)&ApiMsWinCoreStringL110DllW,\\n    (PUNICODE_STRING)&ApiMsWinCoreStringL210DllW,\\n    (PUNICODE_STRING)&ApiMsWinCoreStringloaderL111DllW,\\n    (PUNICODE_STRING)&ApiMsWinCoreStringObsoleteL110DllW,\\n    (PUNICODE_STRING)&ApiMsWinCoreSynchL110DllW,\\n    (PUNICODE_STRING)&ApiMsWinCoreSynchL120DllW,\\n    (PUNICODE_STRING)&ApiMsWinCoreSysinfoL110DllW,\\n    (PUNICODE_STRING)&ApiMsWinCoreSysinfoL120DllW,\\n    (PUNICODE_STRING)&ApiMsWinCoreSysinfoL121DllW,\\n    (PUNICODE_STRING)&ApiMsWinCoreThreadpoolL120DllW,\\n    (PUNICODE_STRING)&ApiMsWinCoreThreadpoolLegacyL110DllW,\\n    (PUNICODE_STRING)&ApiMsWinCoreThreadpoolPrivateL110DllW,\\n    (PUNICODE_STRING)&ApiMsWinCoreTimezoneL110DllW,\\n    (PUNICODE_STRING)&ApiMsWinCoreUrlL110DllW,\\n    (PUNICODE_STRING)&ApiMsWinCoreUtilL110DllW,\\n    (PUNICODE_STRING)&ApiMsWinCoreVersionL110DllW,\\n    (PUNICODE_STRING)&ApiMsWinCoreWow64L110DllW,\\n    (PUNICODE_STRING)&ApiMsWinCoreXstateL110DllW,\\n    (PUNICODE_STRING)&ApiMsWinCoreXstateL210DllW,\\n    (PUNICODE_STRING)&ApiMsWinDevicesConfigL110DllW,\\n    (PUNICODE_STRING)&ApiMsWinDevicesConfigL111DllW,\\n    (PUNICODE_STRING)&ApiMsWinEventingClassicproviderL110DllW,\\n    (PUNICODE_STRING)&ApiMsWinEventingConsumerL110DllW,\\n    (PUNICODE_STRING)&ApiMsWinEventingControllerL110DllW,\\n    (PUNICODE_STRING)&ApiMsWinEventingLegacyL110DllW,\\n    (PUNICODE_STRING)&ApiMsWinEventingProviderL110DllW,\\n    (PUNICODE_STRING)&ApiMsWinEventlogLegacyL110DllW,\\n    (PUNICODE_STRING)&ApiMsWinSecurityBaseL110DllW,\\n    (PUNICODE_STRING)&ApiMsWinSecurityCryptoapiL110DllW,\\n    (PUNICODE_STRING)&ApiMsWinSecurityLsalookupL210DllW,\\n    (PUNICODE_STRING)&ApiMsWinSecurityLsalookupL211DllW,\\n    (PUNICODE_STRING)&ApiMsWinSecurityLsapolicyL110DllW,\\n    (PUNICODE_STRING)&ApiMsWinSecurityProviderL110DllW,\\n    (PUNICODE_STRING)&ApiMsWinSecuritySddlL110DllW,\\n    (PUNICODE_STRING)&ApiMsWinServiceCoreL110DllW,\\n    (PUNICODE_STRING)&ApiMsWinServiceCoreL111DllW,\\n    (PUNICODE_STRING)&ApiMsWinServiceManagementL110DllW,\\n    (PUNICODE_STRING)&ApiMsWinServiceManagementL210DllW,\\n    (PUNICODE_STRING)&ApiMsWinServicePrivateL110DllW,\\n    (PUNICODE_STRING)&ApiMsWinServicePrivateL111DllW,\\n    (PUNICODE_STRING)&ApiMsWinServiceWinsvcL110DllW,\\n};\\n'"
      ]
     },
     "execution_count": 31,
     "metadata": {},
     "output_type": "execute_result"
    }
   ],
   "source": [
    "cb(template % txt)"
   ]
  },
  {
   "cell_type": "code",
   "execution_count": null,
   "metadata": {
    "collapsed": true
   },
   "outputs": [],
   "source": [
    "\n",
    "for (name, path) in parts:\n",
    "    new_\n",
    "    for part in name.split(' '):\n",
    "        "
   ]
  }
 ],
 "metadata": {
  "anaconda-cloud": {},
  "kernelspec": {
   "display_name": "Python 2",
   "language": "python",
   "name": "python2"
  },
  "language_info": {
   "codemirror_mode": {
    "name": "ipython",
    "version": 2
   },
   "file_extension": ".py",
   "mimetype": "text/x-python",
   "name": "python",
   "nbconvert_exporter": "python",
   "pygments_lexer": "ipython2",
   "version": "2.7.11"
  }
 },
 "nbformat": 4,
 "nbformat_minor": 0
}
