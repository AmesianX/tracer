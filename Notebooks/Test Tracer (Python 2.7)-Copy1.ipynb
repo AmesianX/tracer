{
 "cells": [
  {
   "cell_type": "code",
   "execution_count": 1,
   "metadata": {
    "collapsed": true
   },
   "outputs": [],
   "source": [
    "import ctypes\n",
    "import sys\n",
    "import os\n",
    "\n",
    "os.environ['COMPUTERNAME']\n",
    "\n",
    "if os.environ['USERNAME'] == 'r541964':\n",
    "    sys.path.insert(0, r'c:\\users\\r541964\\home\\src\\tpn\\lib')\n",
    "    sys.path.insert(0, r'c:\\users\\r541964\\home\\src\\tracer\\PythonApp\\lib')\n",
    "    basedir = r'e:\\trace2'\n",
    "else:\n",
    "    if os.environ['COMPUTERNAME'] == 'COUGAR':\n",
    "        basedir = r'S:\\trace'\n",
    "    else:\n",
    "        basedir = r'C:\\Users\\Trent\\Home\\data'\n",
    "    sys.path.insert(0, r'c:\\users\\trent\\home\\src\\tpn\\lib')\n",
    "    sys.path.insert(0, r'c:\\users\\trent\\home\\src\\tracer\\PythonApp\\lib')   \n",
    "\n",
    "import tpn\n",
    "\n",
    "#reload(tpn)\n",
    "\n",
    "from tpn.path import join_path\n",
    "\n",
    "import tpn.wintypes\n",
    "reload(tpn.wintypes)\n",
    "from tpn.wintypes import *\n",
    "\n",
    "trace_events_dat_path = join_path(basedir, 'trace_events.dat')\n",
    "trace_events_dat_metadata_path = ''.join((trace_events_dat_path, ':metadata'))\n",
    "trace_events_dat_address_path = ''.join((trace_events_dat_path, ':address'))\n",
    "\n",
    "trace_functions_dat_path = join_path(basedir, 'trace_functions.dat')\n",
    "trace_functions_dat_metadata_path = ''.join((trace_functions_dat_path, ':metadata'))\n",
    "trace_functions_dat_address_path = ''.join((trace_functions_dat_path, ':address'))\n",
    "\n"
   ]
  },
  {
   "cell_type": "code",
   "execution_count": 2,
   "metadata": {
    "collapsed": true
   },
   "outputs": [],
   "source": [
    "import struct\n",
    "from struct import *"
   ]
  },
  {
   "cell_type": "code",
   "execution_count": 3,
   "metadata": {
    "collapsed": false
   },
   "outputs": [
    {
     "data": {
      "text/plain": [
       "<module 'tracer' from 'c:\\users\\trent\\home\\src\\tracer\\PythonApp\\lib\\tracer\\__init__.pyc'>"
      ]
     },
     "execution_count": 3,
     "metadata": {},
     "output_type": "execute_result"
    }
   ],
   "source": [
    "import tracer.config\n",
    "conf = tracer.config.Config()\n",
    "conf.load()\n",
    "\n",
    "conf.tracer_pythontracer_debug_dll_path\n",
    "\n",
    "os.path.exists(conf.tracer_pythontracer_debug_dll_path)\n",
    "\n",
    "import tracer\n",
    "reload(tracer)\n"
   ]
  },
  {
   "cell_type": "code",
   "execution_count": 4,
   "metadata": {
    "collapsed": true
   },
   "outputs": [],
   "source": [
    "use_debug = False"
   ]
  },
  {
   "cell_type": "code",
   "execution_count": 3,
   "metadata": {
    "collapsed": true
   },
   "outputs": [],
   "source": [
    "use_debug = True"
   ]
  },
  {
   "cell_type": "code",
   "execution_count": 5,
   "metadata": {
    "collapsed": false
   },
   "outputs": [
    {
     "name": "stderr",
     "output_type": "stream",
     "text": [
      "Warning: RTL size mismatch: 936 != 64\n",
      "TRACE_CONTEXT size mismatch: 72 != 64\n"
     ]
    }
   ],
   "source": [
    "if use_debug:\n",
    "    t = tracer.Tracer.create_debug(basedir, conf)\n",
    "else:\n",
    "    t = tracer.Tracer.create_release(basedir, conf)\n"
   ]
  },
  {
   "cell_type": "code",
   "execution_count": 4,
   "metadata": {
    "collapsed": true
   },
   "outputs": [],
   "source": [
    "with open(trace_events_dat_metadata_path, 'rb') as f:\n",
    "    events_metadata = f.read()"
   ]
  },
  {
   "cell_type": "code",
   "execution_count": 5,
   "metadata": {
    "collapsed": true
   },
   "outputs": [],
   "source": [
    "#f.close()\n"
   ]
  },
  {
   "cell_type": "code",
   "execution_count": 6,
   "metadata": {
    "collapsed": false
   },
   "outputs": [
    {
     "data": {
      "text/plain": [
       "131072"
      ]
     },
     "execution_count": 6,
     "metadata": {},
     "output_type": "execute_result"
    }
   ],
   "source": [
    "len(events_metadata)"
   ]
  },
  {
   "cell_type": "code",
   "execution_count": 7,
   "metadata": {
    "collapsed": false
   },
   "outputs": [
    {
     "data": {
      "text/plain": [
       "(39060000, 24)"
      ]
     },
     "execution_count": 7,
     "metadata": {},
     "output_type": "execute_result"
    }
   ],
   "source": [
    "struct.unpack('Qq', events_metadata[:16])"
   ]
  },
  {
   "cell_type": "code",
   "execution_count": 8,
   "metadata": {
    "collapsed": false
   },
   "outputs": [],
   "source": [
    "#events_metadata[:1000]"
   ]
  },
  {
   "cell_type": "code",
   "execution_count": 9,
   "metadata": {
    "collapsed": true
   },
   "outputs": [],
   "source": [
    "with open(trace_events_dat_address_path, 'rb') as f:\n",
    "    events_address = f.read()"
   ]
  },
  {
   "cell_type": "code",
   "execution_count": 10,
   "metadata": {
    "collapsed": false
   },
   "outputs": [
    {
     "data": {
      "text/plain": [
       "131072"
      ]
     },
     "execution_count": 10,
     "metadata": {},
     "output_type": "execute_result"
    }
   ],
   "source": [
    "len(events_address)"
   ]
  },
  {
   "cell_type": "code",
   "execution_count": 17,
   "metadata": {
    "collapsed": false
   },
   "outputs": [
    {
     "data": {
      "text/plain": [
       "3276.0"
      ]
     },
     "execution_count": 17,
     "metadata": {},
     "output_type": "execute_result"
    }
   ],
   "source": [
    "131072.0 // 40.0"
   ]
  },
  {
   "cell_type": "code",
   "execution_count": 12,
   "metadata": {
    "collapsed": false
   },
   "outputs": [
    {
     "data": {
      "text/plain": [
       "(0, 1428546125824L, 2097152, 0, 0)"
      ]
     },
     "execution_count": 12,
     "metadata": {},
     "output_type": "execute_result"
    }
   ],
   "source": [
    "struct.unpack('QQQQQ', events_address[:40])"
   ]
  },
  {
   "cell_type": "code",
   "execution_count": 14,
   "metadata": {
    "collapsed": true
   },
   "outputs": [],
   "source": [
    "import numpy as np"
   ]
  },
  {
   "cell_type": "code",
   "execution_count": 15,
   "metadata": {
    "collapsed": false
   },
   "outputs": [],
   "source": [
    "address_dtype = np.dtype([\n",
    "    ('PreferredBaseAddress', np.uint64),\n",
    "    ('BaseAddress', np.uint64),\n",
    "    ('MappedSize', np.uint64),\n",
    "    ('MappedSequenceId', np.uint64),\n",
    "    ('FileOffset', np.uint64),\n",
    "])"
   ]
  },
  {
   "cell_type": "code",
   "execution_count": 18,
   "metadata": {
    "collapsed": false
   },
   "outputs": [],
   "source": [
    "a = np.fromstring(events_address[:40*3000], dtype=address_dtype)"
   ]
  },
  {
   "cell_type": "code",
   "execution_count": 19,
   "metadata": {
    "collapsed": true
   },
   "outputs": [],
   "source": [
    "import pandas as pd"
   ]
  },
  {
   "cell_type": "code",
   "execution_count": 20,
   "metadata": {
    "collapsed": true
   },
   "outputs": [],
   "source": [
    "df = pd.DataFrame(a)"
   ]
  },
  {
   "cell_type": "code",
   "execution_count": 22,
   "metadata": {
    "collapsed": false
   },
   "outputs": [],
   "source": [
    "df = df[df['BaseAddress'] != 0]"
   ]
  },
  {
   "cell_type": "code",
   "execution_count": 23,
   "metadata": {
    "collapsed": false
   },
   "outputs": [
    {
     "data": {
      "text/html": [
       "<div style=\"max-height:1000px;max-width:1500px;overflow:auto;\">\n",
       "<table border=\"1\" class=\"dataframe\">\n",
       "  <thead>\n",
       "    <tr style=\"text-align: right;\">\n",
       "      <th></th>\n",
       "      <th>PreferredBaseAddress</th>\n",
       "      <th>BaseAddress</th>\n",
       "      <th>MappedSize</th>\n",
       "      <th>MappedSequenceId</th>\n",
       "      <th>FileOffset</th>\n",
       "    </tr>\n",
       "  </thead>\n",
       "  <tbody>\n",
       "    <tr>\n",
       "      <th>0  </th>\n",
       "      <td> 0</td>\n",
       "      <td> 1428546125824</td>\n",
       "      <td> 2097152</td>\n",
       "      <td>   0</td>\n",
       "      <td>         0</td>\n",
       "    </tr>\n",
       "    <tr>\n",
       "      <th>1  </th>\n",
       "      <td> 0</td>\n",
       "      <td> 1428548222976</td>\n",
       "      <td> 2097152</td>\n",
       "      <td>   1</td>\n",
       "      <td>   2097152</td>\n",
       "    </tr>\n",
       "    <tr>\n",
       "      <th>2  </th>\n",
       "      <td> 0</td>\n",
       "      <td> 1428554514432</td>\n",
       "      <td> 2097152</td>\n",
       "      <td>   2</td>\n",
       "      <td>   4194304</td>\n",
       "    </tr>\n",
       "    <tr>\n",
       "      <th>3  </th>\n",
       "      <td> 0</td>\n",
       "      <td> 1428556611584</td>\n",
       "      <td> 2097152</td>\n",
       "      <td>   3</td>\n",
       "      <td>   6291456</td>\n",
       "    </tr>\n",
       "    <tr>\n",
       "      <th>4  </th>\n",
       "      <td> 0</td>\n",
       "      <td> 1428546125824</td>\n",
       "      <td> 2097152</td>\n",
       "      <td>   4</td>\n",
       "      <td>   8388608</td>\n",
       "    </tr>\n",
       "    <tr>\n",
       "      <th>5  </th>\n",
       "      <td> 0</td>\n",
       "      <td> 1428548222976</td>\n",
       "      <td> 2097152</td>\n",
       "      <td>   5</td>\n",
       "      <td>  10485760</td>\n",
       "    </tr>\n",
       "    <tr>\n",
       "      <th>6  </th>\n",
       "      <td> 0</td>\n",
       "      <td> 1428554514432</td>\n",
       "      <td> 2097152</td>\n",
       "      <td>   6</td>\n",
       "      <td>  12582912</td>\n",
       "    </tr>\n",
       "    <tr>\n",
       "      <th>7  </th>\n",
       "      <td> 0</td>\n",
       "      <td> 1428556611584</td>\n",
       "      <td> 2097152</td>\n",
       "      <td>   7</td>\n",
       "      <td>  14680064</td>\n",
       "    </tr>\n",
       "    <tr>\n",
       "      <th>8  </th>\n",
       "      <td> 0</td>\n",
       "      <td> 1428546125824</td>\n",
       "      <td> 2097152</td>\n",
       "      <td>   8</td>\n",
       "      <td>  16777216</td>\n",
       "    </tr>\n",
       "    <tr>\n",
       "      <th>9  </th>\n",
       "      <td> 0</td>\n",
       "      <td> 1428548222976</td>\n",
       "      <td> 2097152</td>\n",
       "      <td>   9</td>\n",
       "      <td>  18874368</td>\n",
       "    </tr>\n",
       "    <tr>\n",
       "      <th>10 </th>\n",
       "      <td> 0</td>\n",
       "      <td> 1428554514432</td>\n",
       "      <td> 2097152</td>\n",
       "      <td>  10</td>\n",
       "      <td>  20971520</td>\n",
       "    </tr>\n",
       "    <tr>\n",
       "      <th>11 </th>\n",
       "      <td> 0</td>\n",
       "      <td> 1428556611584</td>\n",
       "      <td> 2097152</td>\n",
       "      <td>  11</td>\n",
       "      <td>  23068672</td>\n",
       "    </tr>\n",
       "    <tr>\n",
       "      <th>12 </th>\n",
       "      <td> 0</td>\n",
       "      <td> 1428546125824</td>\n",
       "      <td> 2097152</td>\n",
       "      <td>  12</td>\n",
       "      <td>  25165824</td>\n",
       "    </tr>\n",
       "    <tr>\n",
       "      <th>13 </th>\n",
       "      <td> 0</td>\n",
       "      <td> 1428548222976</td>\n",
       "      <td> 2097152</td>\n",
       "      <td>  13</td>\n",
       "      <td>  27262976</td>\n",
       "    </tr>\n",
       "    <tr>\n",
       "      <th>14 </th>\n",
       "      <td> 0</td>\n",
       "      <td> 1428554514432</td>\n",
       "      <td> 2097152</td>\n",
       "      <td>  14</td>\n",
       "      <td>  29360128</td>\n",
       "    </tr>\n",
       "    <tr>\n",
       "      <th>15 </th>\n",
       "      <td> 0</td>\n",
       "      <td> 1428556611584</td>\n",
       "      <td> 2097152</td>\n",
       "      <td>  15</td>\n",
       "      <td>  31457280</td>\n",
       "    </tr>\n",
       "    <tr>\n",
       "      <th>16 </th>\n",
       "      <td> 0</td>\n",
       "      <td> 1428546125824</td>\n",
       "      <td> 2097152</td>\n",
       "      <td>  16</td>\n",
       "      <td>  33554432</td>\n",
       "    </tr>\n",
       "    <tr>\n",
       "      <th>17 </th>\n",
       "      <td> 0</td>\n",
       "      <td> 1428548222976</td>\n",
       "      <td> 2097152</td>\n",
       "      <td>  17</td>\n",
       "      <td>  35651584</td>\n",
       "    </tr>\n",
       "    <tr>\n",
       "      <th>18 </th>\n",
       "      <td> 0</td>\n",
       "      <td> 1428554514432</td>\n",
       "      <td> 2097152</td>\n",
       "      <td>  18</td>\n",
       "      <td>  37748736</td>\n",
       "    </tr>\n",
       "    <tr>\n",
       "      <th>19 </th>\n",
       "      <td> 0</td>\n",
       "      <td> 1428556611584</td>\n",
       "      <td> 2097152</td>\n",
       "      <td>  19</td>\n",
       "      <td>  39845888</td>\n",
       "    </tr>\n",
       "    <tr>\n",
       "      <th>20 </th>\n",
       "      <td> 0</td>\n",
       "      <td> 1428546125824</td>\n",
       "      <td> 2097152</td>\n",
       "      <td>  20</td>\n",
       "      <td>  41943040</td>\n",
       "    </tr>\n",
       "    <tr>\n",
       "      <th>21 </th>\n",
       "      <td> 0</td>\n",
       "      <td> 1428548222976</td>\n",
       "      <td> 2097152</td>\n",
       "      <td>  21</td>\n",
       "      <td>  44040192</td>\n",
       "    </tr>\n",
       "    <tr>\n",
       "      <th>22 </th>\n",
       "      <td> 0</td>\n",
       "      <td> 1428554514432</td>\n",
       "      <td> 2097152</td>\n",
       "      <td>  22</td>\n",
       "      <td>  46137344</td>\n",
       "    </tr>\n",
       "    <tr>\n",
       "      <th>23 </th>\n",
       "      <td> 0</td>\n",
       "      <td> 1428556611584</td>\n",
       "      <td> 2097152</td>\n",
       "      <td>  23</td>\n",
       "      <td>  48234496</td>\n",
       "    </tr>\n",
       "    <tr>\n",
       "      <th>24 </th>\n",
       "      <td> 0</td>\n",
       "      <td> 1428546125824</td>\n",
       "      <td> 2097152</td>\n",
       "      <td>  24</td>\n",
       "      <td>  50331648</td>\n",
       "    </tr>\n",
       "    <tr>\n",
       "      <th>25 </th>\n",
       "      <td> 0</td>\n",
       "      <td> 1428548222976</td>\n",
       "      <td> 2097152</td>\n",
       "      <td>  25</td>\n",
       "      <td>  52428800</td>\n",
       "    </tr>\n",
       "    <tr>\n",
       "      <th>26 </th>\n",
       "      <td> 0</td>\n",
       "      <td> 1428554514432</td>\n",
       "      <td> 2097152</td>\n",
       "      <td>  26</td>\n",
       "      <td>  54525952</td>\n",
       "    </tr>\n",
       "    <tr>\n",
       "      <th>27 </th>\n",
       "      <td> 0</td>\n",
       "      <td> 1428556611584</td>\n",
       "      <td> 2097152</td>\n",
       "      <td>  27</td>\n",
       "      <td>  56623104</td>\n",
       "    </tr>\n",
       "    <tr>\n",
       "      <th>28 </th>\n",
       "      <td> 0</td>\n",
       "      <td> 1428546125824</td>\n",
       "      <td> 2097152</td>\n",
       "      <td>  28</td>\n",
       "      <td>  58720256</td>\n",
       "    </tr>\n",
       "    <tr>\n",
       "      <th>29 </th>\n",
       "      <td> 0</td>\n",
       "      <td> 1428548222976</td>\n",
       "      <td> 2097152</td>\n",
       "      <td>  29</td>\n",
       "      <td>  60817408</td>\n",
       "    </tr>\n",
       "    <tr>\n",
       "      <th>...</th>\n",
       "      <td>...</td>\n",
       "      <td>...</td>\n",
       "      <td>...</td>\n",
       "      <td>...</td>\n",
       "      <td>...</td>\n",
       "    </tr>\n",
       "    <tr>\n",
       "      <th>419</th>\n",
       "      <td> 0</td>\n",
       "      <td> 1428554514432</td>\n",
       "      <td> 2097152</td>\n",
       "      <td> 419</td>\n",
       "      <td> 878706688</td>\n",
       "    </tr>\n",
       "    <tr>\n",
       "      <th>420</th>\n",
       "      <td> 0</td>\n",
       "      <td> 1428546125824</td>\n",
       "      <td> 2097152</td>\n",
       "      <td> 420</td>\n",
       "      <td> 880803840</td>\n",
       "    </tr>\n",
       "    <tr>\n",
       "      <th>421</th>\n",
       "      <td> 0</td>\n",
       "      <td> 1428565000192</td>\n",
       "      <td> 2097152</td>\n",
       "      <td> 421</td>\n",
       "      <td> 882900992</td>\n",
       "    </tr>\n",
       "    <tr>\n",
       "      <th>422</th>\n",
       "      <td> 0</td>\n",
       "      <td> 1428548222976</td>\n",
       "      <td> 2097152</td>\n",
       "      <td> 422</td>\n",
       "      <td> 884998144</td>\n",
       "    </tr>\n",
       "    <tr>\n",
       "      <th>423</th>\n",
       "      <td> 0</td>\n",
       "      <td> 1428554514432</td>\n",
       "      <td> 2097152</td>\n",
       "      <td> 423</td>\n",
       "      <td> 887095296</td>\n",
       "    </tr>\n",
       "    <tr>\n",
       "      <th>424</th>\n",
       "      <td> 0</td>\n",
       "      <td> 1428546125824</td>\n",
       "      <td> 2097152</td>\n",
       "      <td> 424</td>\n",
       "      <td> 889192448</td>\n",
       "    </tr>\n",
       "    <tr>\n",
       "      <th>425</th>\n",
       "      <td> 0</td>\n",
       "      <td> 1428565000192</td>\n",
       "      <td> 2097152</td>\n",
       "      <td> 425</td>\n",
       "      <td> 891289600</td>\n",
       "    </tr>\n",
       "    <tr>\n",
       "      <th>426</th>\n",
       "      <td> 0</td>\n",
       "      <td> 1428548222976</td>\n",
       "      <td> 2097152</td>\n",
       "      <td> 426</td>\n",
       "      <td> 893386752</td>\n",
       "    </tr>\n",
       "    <tr>\n",
       "      <th>427</th>\n",
       "      <td> 0</td>\n",
       "      <td> 1428554514432</td>\n",
       "      <td> 2097152</td>\n",
       "      <td> 427</td>\n",
       "      <td> 895483904</td>\n",
       "    </tr>\n",
       "    <tr>\n",
       "      <th>428</th>\n",
       "      <td> 0</td>\n",
       "      <td> 1428546125824</td>\n",
       "      <td> 2097152</td>\n",
       "      <td> 428</td>\n",
       "      <td> 897581056</td>\n",
       "    </tr>\n",
       "    <tr>\n",
       "      <th>429</th>\n",
       "      <td> 0</td>\n",
       "      <td> 1428565000192</td>\n",
       "      <td> 2097152</td>\n",
       "      <td> 429</td>\n",
       "      <td> 899678208</td>\n",
       "    </tr>\n",
       "    <tr>\n",
       "      <th>430</th>\n",
       "      <td> 0</td>\n",
       "      <td> 1428548222976</td>\n",
       "      <td> 2097152</td>\n",
       "      <td> 430</td>\n",
       "      <td> 901775360</td>\n",
       "    </tr>\n",
       "    <tr>\n",
       "      <th>431</th>\n",
       "      <td> 0</td>\n",
       "      <td> 1428554514432</td>\n",
       "      <td> 2097152</td>\n",
       "      <td> 431</td>\n",
       "      <td> 903872512</td>\n",
       "    </tr>\n",
       "    <tr>\n",
       "      <th>432</th>\n",
       "      <td> 0</td>\n",
       "      <td> 1428546125824</td>\n",
       "      <td> 2097152</td>\n",
       "      <td> 432</td>\n",
       "      <td> 905969664</td>\n",
       "    </tr>\n",
       "    <tr>\n",
       "      <th>433</th>\n",
       "      <td> 0</td>\n",
       "      <td> 1428548222976</td>\n",
       "      <td> 2097152</td>\n",
       "      <td> 433</td>\n",
       "      <td> 908066816</td>\n",
       "    </tr>\n",
       "    <tr>\n",
       "      <th>434</th>\n",
       "      <td> 0</td>\n",
       "      <td> 1428565000192</td>\n",
       "      <td> 2097152</td>\n",
       "      <td> 434</td>\n",
       "      <td> 910163968</td>\n",
       "    </tr>\n",
       "    <tr>\n",
       "      <th>435</th>\n",
       "      <td> 0</td>\n",
       "      <td> 1428554514432</td>\n",
       "      <td> 2097152</td>\n",
       "      <td> 435</td>\n",
       "      <td> 912261120</td>\n",
       "    </tr>\n",
       "    <tr>\n",
       "      <th>436</th>\n",
       "      <td> 0</td>\n",
       "      <td> 1428546125824</td>\n",
       "      <td> 2097152</td>\n",
       "      <td> 436</td>\n",
       "      <td> 914358272</td>\n",
       "    </tr>\n",
       "    <tr>\n",
       "      <th>437</th>\n",
       "      <td> 0</td>\n",
       "      <td> 1428548222976</td>\n",
       "      <td> 2097152</td>\n",
       "      <td> 437</td>\n",
       "      <td> 916455424</td>\n",
       "    </tr>\n",
       "    <tr>\n",
       "      <th>438</th>\n",
       "      <td> 0</td>\n",
       "      <td> 1428565000192</td>\n",
       "      <td> 2097152</td>\n",
       "      <td> 438</td>\n",
       "      <td> 918552576</td>\n",
       "    </tr>\n",
       "    <tr>\n",
       "      <th>439</th>\n",
       "      <td> 0</td>\n",
       "      <td> 1428554514432</td>\n",
       "      <td> 2097152</td>\n",
       "      <td> 439</td>\n",
       "      <td> 920649728</td>\n",
       "    </tr>\n",
       "    <tr>\n",
       "      <th>440</th>\n",
       "      <td> 0</td>\n",
       "      <td> 1428546125824</td>\n",
       "      <td> 2097152</td>\n",
       "      <td> 440</td>\n",
       "      <td> 922746880</td>\n",
       "    </tr>\n",
       "    <tr>\n",
       "      <th>441</th>\n",
       "      <td> 0</td>\n",
       "      <td> 1428548222976</td>\n",
       "      <td> 2097152</td>\n",
       "      <td> 441</td>\n",
       "      <td> 924844032</td>\n",
       "    </tr>\n",
       "    <tr>\n",
       "      <th>442</th>\n",
       "      <td> 0</td>\n",
       "      <td> 1428565000192</td>\n",
       "      <td> 2097152</td>\n",
       "      <td> 442</td>\n",
       "      <td> 926941184</td>\n",
       "    </tr>\n",
       "    <tr>\n",
       "      <th>443</th>\n",
       "      <td> 0</td>\n",
       "      <td> 1428554514432</td>\n",
       "      <td> 2097152</td>\n",
       "      <td> 443</td>\n",
       "      <td> 929038336</td>\n",
       "    </tr>\n",
       "    <tr>\n",
       "      <th>444</th>\n",
       "      <td> 0</td>\n",
       "      <td> 1428546125824</td>\n",
       "      <td> 2097152</td>\n",
       "      <td> 444</td>\n",
       "      <td> 931135488</td>\n",
       "    </tr>\n",
       "    <tr>\n",
       "      <th>445</th>\n",
       "      <td> 0</td>\n",
       "      <td> 1428548222976</td>\n",
       "      <td> 2097152</td>\n",
       "      <td> 445</td>\n",
       "      <td> 933232640</td>\n",
       "    </tr>\n",
       "    <tr>\n",
       "      <th>446</th>\n",
       "      <td> 0</td>\n",
       "      <td> 1428565000192</td>\n",
       "      <td> 2097152</td>\n",
       "      <td> 446</td>\n",
       "      <td> 935329792</td>\n",
       "    </tr>\n",
       "    <tr>\n",
       "      <th>447</th>\n",
       "      <td> 0</td>\n",
       "      <td> 1428554514432</td>\n",
       "      <td> 2097152</td>\n",
       "      <td> 447</td>\n",
       "      <td> 937426944</td>\n",
       "    </tr>\n",
       "    <tr>\n",
       "      <th>448</th>\n",
       "      <td> 0</td>\n",
       "      <td> 1428546125824</td>\n",
       "      <td> 2097152</td>\n",
       "      <td> 448</td>\n",
       "      <td> 939524096</td>\n",
       "    </tr>\n",
       "  </tbody>\n",
       "</table>\n",
       "<p>449 rows × 5 columns</p>\n",
       "</div>"
      ],
      "text/plain": [
       "     PreferredBaseAddress    BaseAddress  MappedSize  MappedSequenceId  \\\n",
       "0                       0  1428546125824     2097152                 0   \n",
       "1                       0  1428548222976     2097152                 1   \n",
       "2                       0  1428554514432     2097152                 2   \n",
       "3                       0  1428556611584     2097152                 3   \n",
       "4                       0  1428546125824     2097152                 4   \n",
       "5                       0  1428548222976     2097152                 5   \n",
       "6                       0  1428554514432     2097152                 6   \n",
       "7                       0  1428556611584     2097152                 7   \n",
       "8                       0  1428546125824     2097152                 8   \n",
       "9                       0  1428548222976     2097152                 9   \n",
       "10                      0  1428554514432     2097152                10   \n",
       "11                      0  1428556611584     2097152                11   \n",
       "12                      0  1428546125824     2097152                12   \n",
       "13                      0  1428548222976     2097152                13   \n",
       "14                      0  1428554514432     2097152                14   \n",
       "15                      0  1428556611584     2097152                15   \n",
       "16                      0  1428546125824     2097152                16   \n",
       "17                      0  1428548222976     2097152                17   \n",
       "18                      0  1428554514432     2097152                18   \n",
       "19                      0  1428556611584     2097152                19   \n",
       "20                      0  1428546125824     2097152                20   \n",
       "21                      0  1428548222976     2097152                21   \n",
       "22                      0  1428554514432     2097152                22   \n",
       "23                      0  1428556611584     2097152                23   \n",
       "24                      0  1428546125824     2097152                24   \n",
       "25                      0  1428548222976     2097152                25   \n",
       "26                      0  1428554514432     2097152                26   \n",
       "27                      0  1428556611584     2097152                27   \n",
       "28                      0  1428546125824     2097152                28   \n",
       "29                      0  1428548222976     2097152                29   \n",
       "..                    ...            ...         ...               ...   \n",
       "419                     0  1428554514432     2097152               419   \n",
       "420                     0  1428546125824     2097152               420   \n",
       "421                     0  1428565000192     2097152               421   \n",
       "422                     0  1428548222976     2097152               422   \n",
       "423                     0  1428554514432     2097152               423   \n",
       "424                     0  1428546125824     2097152               424   \n",
       "425                     0  1428565000192     2097152               425   \n",
       "426                     0  1428548222976     2097152               426   \n",
       "427                     0  1428554514432     2097152               427   \n",
       "428                     0  1428546125824     2097152               428   \n",
       "429                     0  1428565000192     2097152               429   \n",
       "430                     0  1428548222976     2097152               430   \n",
       "431                     0  1428554514432     2097152               431   \n",
       "432                     0  1428546125824     2097152               432   \n",
       "433                     0  1428548222976     2097152               433   \n",
       "434                     0  1428565000192     2097152               434   \n",
       "435                     0  1428554514432     2097152               435   \n",
       "436                     0  1428546125824     2097152               436   \n",
       "437                     0  1428548222976     2097152               437   \n",
       "438                     0  1428565000192     2097152               438   \n",
       "439                     0  1428554514432     2097152               439   \n",
       "440                     0  1428546125824     2097152               440   \n",
       "441                     0  1428548222976     2097152               441   \n",
       "442                     0  1428565000192     2097152               442   \n",
       "443                     0  1428554514432     2097152               443   \n",
       "444                     0  1428546125824     2097152               444   \n",
       "445                     0  1428548222976     2097152               445   \n",
       "446                     0  1428565000192     2097152               446   \n",
       "447                     0  1428554514432     2097152               447   \n",
       "448                     0  1428546125824     2097152               448   \n",
       "\n",
       "     FileOffset  \n",
       "0             0  \n",
       "1       2097152  \n",
       "2       4194304  \n",
       "3       6291456  \n",
       "4       8388608  \n",
       "5      10485760  \n",
       "6      12582912  \n",
       "7      14680064  \n",
       "8      16777216  \n",
       "9      18874368  \n",
       "10     20971520  \n",
       "11     23068672  \n",
       "12     25165824  \n",
       "13     27262976  \n",
       "14     29360128  \n",
       "15     31457280  \n",
       "16     33554432  \n",
       "17     35651584  \n",
       "18     37748736  \n",
       "19     39845888  \n",
       "20     41943040  \n",
       "21     44040192  \n",
       "22     46137344  \n",
       "23     48234496  \n",
       "24     50331648  \n",
       "25     52428800  \n",
       "26     54525952  \n",
       "27     56623104  \n",
       "28     58720256  \n",
       "29     60817408  \n",
       "..          ...  \n",
       "419   878706688  \n",
       "420   880803840  \n",
       "421   882900992  \n",
       "422   884998144  \n",
       "423   887095296  \n",
       "424   889192448  \n",
       "425   891289600  \n",
       "426   893386752  \n",
       "427   895483904  \n",
       "428   897581056  \n",
       "429   899678208  \n",
       "430   901775360  \n",
       "431   903872512  \n",
       "432   905969664  \n",
       "433   908066816  \n",
       "434   910163968  \n",
       "435   912261120  \n",
       "436   914358272  \n",
       "437   916455424  \n",
       "438   918552576  \n",
       "439   920649728  \n",
       "440   922746880  \n",
       "441   924844032  \n",
       "442   926941184  \n",
       "443   929038336  \n",
       "444   931135488  \n",
       "445   933232640  \n",
       "446   935329792  \n",
       "447   937426944  \n",
       "448   939524096  \n",
       "\n",
       "[449 rows x 5 columns]"
      ]
     },
     "execution_count": 23,
     "metadata": {},
     "output_type": "execute_result"
    }
   ],
   "source": [
    "df"
   ]
  },
  {
   "cell_type": "code",
   "execution_count": 9,
   "metadata": {
    "collapsed": true
   },
   "outputs": [],
   "source": [
    "with open(trace_functions_dat_metadata_path, 'rb') as f:\n",
    "    functions_metadata = f.read()"
   ]
  },
  {
   "cell_type": "code",
   "execution_count": 10,
   "metadata": {
    "collapsed": false
   },
   "outputs": [
    {
     "data": {
      "text/plain": [
       "131072"
      ]
     },
     "execution_count": 10,
     "metadata": {},
     "output_type": "execute_result"
    }
   ],
   "source": [
    "len(functions_metadata)"
   ]
  },
  {
   "cell_type": "code",
   "execution_count": 12,
   "metadata": {
    "collapsed": false
   },
   "outputs": [
    {
     "data": {
      "text/plain": [
       "(1, 72)"
      ]
     },
     "execution_count": 12,
     "metadata": {},
     "output_type": "execute_result"
    }
   ],
   "source": [
    "struct.unpack('Qq', functions_metadata[:16])"
   ]
  },
  {
   "cell_type": "code",
   "execution_count": 13,
   "metadata": {
    "collapsed": true
   },
   "outputs": [],
   "source": [
    "with open(trace_functions_dat_path, 'rb') as f:\n",
    "    functions = f.read()"
   ]
  },
  {
   "cell_type": "code",
   "execution_count": 14,
   "metadata": {
    "collapsed": false
   },
   "outputs": [
    {
     "data": {
      "text/plain": [
       "4194304"
      ]
     },
     "execution_count": 14,
     "metadata": {},
     "output_type": "execute_result"
    }
   ],
   "source": [
    "len(functions)"
   ]
  },
  {
   "cell_type": "code",
   "execution_count": 15,
   "metadata": {
    "collapsed": true
   },
   "outputs": [],
   "source": [
    "import numpy as np"
   ]
  },
  {
   "cell_type": "code",
   "execution_count": 17,
   "metadata": {
    "collapsed": true
   },
   "outputs": [],
   "source": [
    "metadata_dtype = np.dtype([\n",
    "    ('NumberOfRecords', np.uint64),\n",
    "    ('RecordSize', np.uint64),\n",
    "])"
   ]
  },
  {
   "cell_type": "code",
   "execution_count": 19,
   "metadata": {
    "collapsed": true
   },
   "outputs": [],
   "source": [
    "a = np.fromstring(functions_metadata, dtype=metadata_dtype)"
   ]
  },
  {
   "cell_type": "code",
   "execution_count": 23,
   "metadata": {
    "collapsed": false
   },
   "outputs": [],
   "source": [
    "import pandas as pd"
   ]
  },
  {
   "cell_type": "code",
   "execution_count": 24,
   "metadata": {
    "collapsed": true
   },
   "outputs": [],
   "source": [
    "df = pd.DataFrame(a)"
   ]
  },
  {
   "cell_type": "code",
   "execution_count": 26,
   "metadata": {
    "collapsed": false
   },
   "outputs": [],
   "source": [
    "df = df[df['NumberOfRecords'] != 0]"
   ]
  },
  {
   "cell_type": "code",
   "execution_count": 28,
   "metadata": {
    "collapsed": false
   },
   "outputs": [
    {
     "data": {
      "text/plain": [
       "58"
      ]
     },
     "execution_count": 28,
     "metadata": {},
     "output_type": "execute_result"
    }
   ],
   "source": [
    "len(df)"
   ]
  },
  {
   "cell_type": "code",
   "execution_count": 30,
   "metadata": {
    "collapsed": false
   },
   "outputs": [
    {
     "data": {
      "text/plain": [
       "8840"
      ]
     },
     "execution_count": 30,
     "metadata": {},
     "output_type": "execute_result"
    }
   ],
   "source": [
    "df['RecordSize'].sum()"
   ]
  },
  {
   "cell_type": "code",
   "execution_count": 31,
   "metadata": {
    "collapsed": false
   },
   "outputs": [
    {
     "data": {
      "text/html": [
       "<div style=\"max-height:1000px;max-width:1500px;overflow:auto;\">\n",
       "<table border=\"1\" class=\"dataframe\">\n",
       "  <thead>\n",
       "    <tr style=\"text-align: right;\">\n",
       "      <th></th>\n",
       "      <th>NumberOfRecords</th>\n",
       "      <th>RecordSize</th>\n",
       "    </tr>\n",
       "  </thead>\n",
       "  <tbody>\n",
       "    <tr>\n",
       "      <th>0 </th>\n",
       "      <td> 1</td>\n",
       "      <td>  72</td>\n",
       "    </tr>\n",
       "    <tr>\n",
       "      <th>1 </th>\n",
       "      <td> 1</td>\n",
       "      <td> 280</td>\n",
       "    </tr>\n",
       "    <tr>\n",
       "      <th>2 </th>\n",
       "      <td> 1</td>\n",
       "      <td> 144</td>\n",
       "    </tr>\n",
       "    <tr>\n",
       "      <th>3 </th>\n",
       "      <td> 1</td>\n",
       "      <td> 152</td>\n",
       "    </tr>\n",
       "    <tr>\n",
       "      <th>4 </th>\n",
       "      <td> 1</td>\n",
       "      <td> 224</td>\n",
       "    </tr>\n",
       "    <tr>\n",
       "      <th>5 </th>\n",
       "      <td> 1</td>\n",
       "      <td>  40</td>\n",
       "    </tr>\n",
       "    <tr>\n",
       "      <th>6 </th>\n",
       "      <td> 1</td>\n",
       "      <td> 280</td>\n",
       "    </tr>\n",
       "    <tr>\n",
       "      <th>7 </th>\n",
       "      <td> 1</td>\n",
       "      <td>  72</td>\n",
       "    </tr>\n",
       "    <tr>\n",
       "      <th>8 </th>\n",
       "      <td> 1</td>\n",
       "      <td> 144</td>\n",
       "    </tr>\n",
       "    <tr>\n",
       "      <th>9 </th>\n",
       "      <td> 1</td>\n",
       "      <td> 160</td>\n",
       "    </tr>\n",
       "    <tr>\n",
       "      <th>10</th>\n",
       "      <td> 1</td>\n",
       "      <td>  24</td>\n",
       "    </tr>\n",
       "    <tr>\n",
       "      <th>11</th>\n",
       "      <td> 1</td>\n",
       "      <td> 280</td>\n",
       "    </tr>\n",
       "    <tr>\n",
       "      <th>12</th>\n",
       "      <td> 1</td>\n",
       "      <td> 144</td>\n",
       "    </tr>\n",
       "    <tr>\n",
       "      <th>13</th>\n",
       "      <td> 1</td>\n",
       "      <td> 152</td>\n",
       "    </tr>\n",
       "    <tr>\n",
       "      <th>14</th>\n",
       "      <td> 1</td>\n",
       "      <td> 208</td>\n",
       "    </tr>\n",
       "    <tr>\n",
       "      <th>15</th>\n",
       "      <td> 1</td>\n",
       "      <td>  24</td>\n",
       "    </tr>\n",
       "    <tr>\n",
       "      <th>16</th>\n",
       "      <td> 1</td>\n",
       "      <td> 280</td>\n",
       "    </tr>\n",
       "    <tr>\n",
       "      <th>17</th>\n",
       "      <td> 1</td>\n",
       "      <td>  24</td>\n",
       "    </tr>\n",
       "    <tr>\n",
       "      <th>18</th>\n",
       "      <td> 1</td>\n",
       "      <td> 280</td>\n",
       "    </tr>\n",
       "    <tr>\n",
       "      <th>19</th>\n",
       "      <td> 1</td>\n",
       "      <td>  32</td>\n",
       "    </tr>\n",
       "    <tr>\n",
       "      <th>20</th>\n",
       "      <td> 1</td>\n",
       "      <td> 280</td>\n",
       "    </tr>\n",
       "    <tr>\n",
       "      <th>21</th>\n",
       "      <td> 1</td>\n",
       "      <td>  24</td>\n",
       "    </tr>\n",
       "    <tr>\n",
       "      <th>22</th>\n",
       "      <td> 1</td>\n",
       "      <td> 280</td>\n",
       "    </tr>\n",
       "    <tr>\n",
       "      <th>23</th>\n",
       "      <td> 1</td>\n",
       "      <td>  24</td>\n",
       "    </tr>\n",
       "    <tr>\n",
       "      <th>24</th>\n",
       "      <td> 1</td>\n",
       "      <td> 280</td>\n",
       "    </tr>\n",
       "    <tr>\n",
       "      <th>25</th>\n",
       "      <td> 1</td>\n",
       "      <td>  24</td>\n",
       "    </tr>\n",
       "    <tr>\n",
       "      <th>26</th>\n",
       "      <td> 1</td>\n",
       "      <td> 280</td>\n",
       "    </tr>\n",
       "    <tr>\n",
       "      <th>27</th>\n",
       "      <td> 1</td>\n",
       "      <td>  24</td>\n",
       "    </tr>\n",
       "    <tr>\n",
       "      <th>28</th>\n",
       "      <td> 1</td>\n",
       "      <td> 280</td>\n",
       "    </tr>\n",
       "    <tr>\n",
       "      <th>29</th>\n",
       "      <td> 1</td>\n",
       "      <td>  24</td>\n",
       "    </tr>\n",
       "    <tr>\n",
       "      <th>30</th>\n",
       "      <td> 1</td>\n",
       "      <td> 280</td>\n",
       "    </tr>\n",
       "    <tr>\n",
       "      <th>31</th>\n",
       "      <td> 1</td>\n",
       "      <td>  24</td>\n",
       "    </tr>\n",
       "    <tr>\n",
       "      <th>32</th>\n",
       "      <td> 1</td>\n",
       "      <td> 280</td>\n",
       "    </tr>\n",
       "    <tr>\n",
       "      <th>33</th>\n",
       "      <td> 1</td>\n",
       "      <td>  24</td>\n",
       "    </tr>\n",
       "    <tr>\n",
       "      <th>34</th>\n",
       "      <td> 1</td>\n",
       "      <td> 280</td>\n",
       "    </tr>\n",
       "    <tr>\n",
       "      <th>35</th>\n",
       "      <td> 1</td>\n",
       "      <td>  24</td>\n",
       "    </tr>\n",
       "    <tr>\n",
       "      <th>36</th>\n",
       "      <td> 1</td>\n",
       "      <td> 280</td>\n",
       "    </tr>\n",
       "    <tr>\n",
       "      <th>37</th>\n",
       "      <td> 1</td>\n",
       "      <td>  24</td>\n",
       "    </tr>\n",
       "    <tr>\n",
       "      <th>38</th>\n",
       "      <td> 1</td>\n",
       "      <td> 280</td>\n",
       "    </tr>\n",
       "    <tr>\n",
       "      <th>39</th>\n",
       "      <td> 1</td>\n",
       "      <td>  24</td>\n",
       "    </tr>\n",
       "    <tr>\n",
       "      <th>40</th>\n",
       "      <td> 1</td>\n",
       "      <td> 280</td>\n",
       "    </tr>\n",
       "    <tr>\n",
       "      <th>41</th>\n",
       "      <td> 1</td>\n",
       "      <td>  32</td>\n",
       "    </tr>\n",
       "    <tr>\n",
       "      <th>42</th>\n",
       "      <td> 1</td>\n",
       "      <td> 280</td>\n",
       "    </tr>\n",
       "    <tr>\n",
       "      <th>43</th>\n",
       "      <td> 1</td>\n",
       "      <td>  24</td>\n",
       "    </tr>\n",
       "    <tr>\n",
       "      <th>44</th>\n",
       "      <td> 1</td>\n",
       "      <td> 280</td>\n",
       "    </tr>\n",
       "    <tr>\n",
       "      <th>45</th>\n",
       "      <td> 1</td>\n",
       "      <td>  24</td>\n",
       "    </tr>\n",
       "    <tr>\n",
       "      <th>46</th>\n",
       "      <td> 1</td>\n",
       "      <td> 280</td>\n",
       "    </tr>\n",
       "    <tr>\n",
       "      <th>47</th>\n",
       "      <td> 1</td>\n",
       "      <td>  24</td>\n",
       "    </tr>\n",
       "    <tr>\n",
       "      <th>48</th>\n",
       "      <td> 1</td>\n",
       "      <td> 280</td>\n",
       "    </tr>\n",
       "    <tr>\n",
       "      <th>49</th>\n",
       "      <td> 1</td>\n",
       "      <td>  32</td>\n",
       "    </tr>\n",
       "    <tr>\n",
       "      <th>50</th>\n",
       "      <td> 1</td>\n",
       "      <td> 280</td>\n",
       "    </tr>\n",
       "    <tr>\n",
       "      <th>51</th>\n",
       "      <td> 1</td>\n",
       "      <td>  32</td>\n",
       "    </tr>\n",
       "    <tr>\n",
       "      <th>52</th>\n",
       "      <td> 1</td>\n",
       "      <td> 280</td>\n",
       "    </tr>\n",
       "    <tr>\n",
       "      <th>53</th>\n",
       "      <td> 1</td>\n",
       "      <td>  32</td>\n",
       "    </tr>\n",
       "    <tr>\n",
       "      <th>54</th>\n",
       "      <td> 1</td>\n",
       "      <td> 280</td>\n",
       "    </tr>\n",
       "    <tr>\n",
       "      <th>55</th>\n",
       "      <td> 1</td>\n",
       "      <td>  32</td>\n",
       "    </tr>\n",
       "    <tr>\n",
       "      <th>56</th>\n",
       "      <td> 1</td>\n",
       "      <td> 280</td>\n",
       "    </tr>\n",
       "    <tr>\n",
       "      <th>57</th>\n",
       "      <td> 1</td>\n",
       "      <td>  32</td>\n",
       "    </tr>\n",
       "  </tbody>\n",
       "</table>\n",
       "</div>"
      ],
      "text/plain": [
       "    NumberOfRecords  RecordSize\n",
       "0                 1          72\n",
       "1                 1         280\n",
       "2                 1         144\n",
       "3                 1         152\n",
       "4                 1         224\n",
       "5                 1          40\n",
       "6                 1         280\n",
       "7                 1          72\n",
       "8                 1         144\n",
       "9                 1         160\n",
       "10                1          24\n",
       "11                1         280\n",
       "12                1         144\n",
       "13                1         152\n",
       "14                1         208\n",
       "15                1          24\n",
       "16                1         280\n",
       "17                1          24\n",
       "18                1         280\n",
       "19                1          32\n",
       "20                1         280\n",
       "21                1          24\n",
       "22                1         280\n",
       "23                1          24\n",
       "24                1         280\n",
       "25                1          24\n",
       "26                1         280\n",
       "27                1          24\n",
       "28                1         280\n",
       "29                1          24\n",
       "30                1         280\n",
       "31                1          24\n",
       "32                1         280\n",
       "33                1          24\n",
       "34                1         280\n",
       "35                1          24\n",
       "36                1         280\n",
       "37                1          24\n",
       "38                1         280\n",
       "39                1          24\n",
       "40                1         280\n",
       "41                1          32\n",
       "42                1         280\n",
       "43                1          24\n",
       "44                1         280\n",
       "45                1          24\n",
       "46                1         280\n",
       "47                1          24\n",
       "48                1         280\n",
       "49                1          32\n",
       "50                1         280\n",
       "51                1          32\n",
       "52                1         280\n",
       "53                1          32\n",
       "54                1         280\n",
       "55                1          32\n",
       "56                1         280\n",
       "57                1          32"
      ]
     },
     "execution_count": 31,
     "metadata": {},
     "output_type": "execute_result"
    }
   ],
   "source": [
    "df"
   ]
  },
  {
   "cell_type": "code",
   "execution_count": 19,
   "metadata": {
    "collapsed": false
   },
   "outputs": [
    {
     "data": {
      "text/plain": [
       "'\\x01\\x02\\x01\\x00\\x00\\x00\\x00\\x00\\xd0\\xd3'"
      ]
     },
     "execution_count": 19,
     "metadata": {},
     "output_type": "execute_result"
    }
   ],
   "source": [
    "functions[:10]"
   ]
  },
  {
   "cell_type": "code",
   "execution_count": null,
   "metadata": {
    "collapsed": true
   },
   "outputs": [],
   "source": []
  },
  {
   "cell_type": "code",
   "execution_count": null,
   "metadata": {
    "collapsed": false
   },
   "outputs": [],
   "source": [
    "with t:\n",
    "    bits_table(output=null_writer)"
   ]
  },
  {
   "cell_type": "code",
   "execution_count": null,
   "metadata": {
    "collapsed": true
   },
   "outputs": [],
   "source": []
  },
  {
   "cell_type": "code",
   "execution_count": null,
   "metadata": {
    "collapsed": true
   },
   "outputs": [],
   "source": []
  },
  {
   "cell_type": "code",
   "execution_count": null,
   "metadata": {
    "collapsed": true
   },
   "outputs": [],
   "source": []
  }
 ],
 "metadata": {
  "kernelspec": {
   "display_name": "Python 2",
   "language": "python",
   "name": "python2"
  },
  "language_info": {
   "codemirror_mode": {
    "name": "ipython",
    "version": 2
   },
   "file_extension": ".py",
   "mimetype": "text/x-python",
   "name": "python",
   "nbconvert_exporter": "python",
   "pygments_lexer": "ipython2",
   "version": "2.7.11"
  }
 },
 "nbformat": 4,
 "nbformat_minor": 0
}
