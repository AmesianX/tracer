{
 "cells": [
  {
   "cell_type": "code",
   "execution_count": 1,
   "metadata": {
    "collapsed": true
   },
   "outputs": [],
   "source": [
    "import ctypes\n",
    "import sys\n",
    "import os\n",
    "\n",
    "os.environ['COMPUTERNAME']\n",
    "\n",
    "if os.environ['USERNAME'] == 'r541964':\n",
    "    sys.path.insert(0, r'c:\\users\\r541964\\home\\src\\tpn\\lib')\n",
    "    sys.path.insert(0, r'c:\\users\\r541964\\home\\src\\tracer\\PythonApp\\lib')\n",
    "    basedir = r'e:\\trace2'\n",
    "else:\n",
    "    if os.environ['COMPUTERNAME'] == 'COUGAR':\n",
    "        basedir = r'S:\\Data'\n",
    "    else:\n",
    "        basedir = r'C:\\Users\\Trent\\Home\\data'\n",
    "    sys.path.insert(0, r'c:\\users\\trent\\home\\src\\tpn\\lib')\n",
    "    sys.path.insert(0, r'c:\\users\\trent\\home\\src\\tracer\\PythonApp\\lib')   \n",
    "\n",
    "import tpn\n",
    "\n",
    "#reload(tpn)\n",
    "\n",
    "from tpn.path import join_path\n",
    "\n",
    "import tpn.wintypes\n",
    "reload(tpn.wintypes)\n",
    "from tpn.wintypes import *\n",
    "\n",
    "trace_events_dat_path = join_path(basedir, 'trace_events.dat')\n",
    "trace_events_dat_metadata_path = ''.join((trace_events_dat_path, ':metadata'))\n",
    "\n",
    "import re\n",
    "\n",
    "from tpn.convert import (\n",
    "    convert_windows_typedef_to_python_ctypes_structure,\n",
    "    TYPEDEF_FILE_STANDARD_INFO,\n",
    "    PYTHON_CTYPES_FILE_STANDARD_INFO_FORMAT\n",
    ")\n",
    "\n",
    "from tpn.util import bits_table, NullObject\n",
    "null_writer = NullObject()"
   ]
  },
  {
   "cell_type": "code",
   "execution_count": 2,
   "metadata": {
    "collapsed": false
   },
   "outputs": [
    {
     "data": {
      "text/plain": [
       "<module 'tracer' from 'c:\\users\\trent\\home\\src\\tracer\\PythonApp\\lib\\tracer\\__init__.pyc'>"
      ]
     },
     "execution_count": 2,
     "metadata": {},
     "output_type": "execute_result"
    }
   ],
   "source": [
    "import tracer.config\n",
    "conf = tracer.config.Config()\n",
    "conf.load()\n",
    "\n",
    "conf.tracer_pythontracer_debug_dll_path\n",
    "\n",
    "os.path.exists(conf.tracer_pythontracer_debug_dll_path)\n",
    "\n",
    "import tracer\n",
    "reload(tracer)\n"
   ]
  },
  {
   "cell_type": "code",
   "execution_count": 3,
   "metadata": {
    "collapsed": true
   },
   "outputs": [],
   "source": [
    "use_debug = True"
   ]
  },
  {
   "cell_type": "code",
   "execution_count": 4,
   "metadata": {
    "collapsed": false
   },
   "outputs": [
    {
     "name": "stderr",
     "output_type": "stream",
     "text": [
      "Warning: RTL size mismatch: 720 != 64\n",
      "TRACE_CONTEXT size mismatch: 72 != 64\n"
     ]
    }
   ],
   "source": [
    "if use_debug:\n",
    "    t = tracer.Tracer.create_debug(basedir, conf)\n",
    "else:\n",
    "    t = tracer.Tracer.create_release(basedir, conf)\n"
   ]
  },
  {
   "cell_type": "code",
   "execution_count": 5,
   "metadata": {
    "collapsed": false
   },
   "outputs": [
    {
     "data": {
      "text/plain": [
       "48700"
      ]
     },
     "execution_count": 5,
     "metadata": {},
     "output_type": "execute_result"
    }
   ],
   "source": [
    "os.getpid()"
   ]
  },
  {
   "cell_type": "code",
   "execution_count": null,
   "metadata": {
    "collapsed": false
   },
   "outputs": [],
   "source": [
    "with t:\n",
    "    bits_table(output=null_writer)"
   ]
  },
  {
   "cell_type": "code",
   "execution_count": null,
   "metadata": {
    "collapsed": true
   },
   "outputs": [],
   "source": []
  },
  {
   "cell_type": "code",
   "execution_count": null,
   "metadata": {
    "collapsed": true
   },
   "outputs": [],
   "source": []
  },
  {
   "cell_type": "code",
   "execution_count": null,
   "metadata": {
    "collapsed": true
   },
   "outputs": [],
   "source": []
  }
 ],
 "metadata": {
  "kernelspec": {
   "display_name": "Python 2",
   "language": "python",
   "name": "python2"
  },
  "language_info": {
   "codemirror_mode": {
    "name": "ipython",
    "version": 2
   },
   "file_extension": ".py",
   "mimetype": "text/x-python",
   "name": "python",
   "nbconvert_exporter": "python",
   "pygments_lexer": "ipython2",
   "version": "2.7.11"
  }
 },
 "nbformat": 4,
 "nbformat_minor": 0
}
