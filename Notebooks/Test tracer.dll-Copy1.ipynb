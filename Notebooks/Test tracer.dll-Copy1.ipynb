{
 "cells": [
  {
   "cell_type": "code",
   "execution_count": 1,
   "metadata": {
    "collapsed": true
   },
   "outputs": [],
   "source": [
    "import tracer"
   ]
  },
  {
   "cell_type": "code",
   "execution_count": 2,
   "metadata": {
    "collapsed": true
   },
   "outputs": [],
   "source": [
    "import tracer.dll"
   ]
  },
  {
   "cell_type": "code",
   "execution_count": 3,
   "metadata": {
    "collapsed": false
   },
   "outputs": [
    {
     "data": {
      "text/plain": [
       "<module 'tracer.wintypes' from 'S:\\Source\\tracer\\PythonApp\\lib\\tracer\\wintypes.pyc'>"
      ]
     },
     "execution_count": 3,
     "metadata": {},
     "output_type": "execute_result"
    }
   ],
   "source": [
    "import tracer.wintypes\n",
    "reload(tracer.wintypes)"
   ]
  },
  {
   "cell_type": "code",
   "execution_count": 4,
   "metadata": {
    "collapsed": false
   },
   "outputs": [],
   "source": [
    "from tracer.dll import (\n",
    "    Rtl,\n",
    "    Python,\n",
    "    Allocator,    \n",
    "    TraceStore,    \n",
    "    #StringTable,\n",
    "    TracerConfig,    \n",
    "    PythonTracer,\n",
    ")\n"
   ]
  },
  {
   "cell_type": "code",
   "execution_count": 5,
   "metadata": {
    "collapsed": true
   },
   "outputs": [],
   "source": [
    "from ctypes import *"
   ]
  },
  {
   "cell_type": "code",
   "execution_count": 6,
   "metadata": {
    "collapsed": false
   },
   "outputs": [
    {
     "data": {
      "text/plain": [
       "<module 'tracer.util' from 'S:\\Source\\tracer\\PythonApp\\lib\\tracer\\util.pyc'>"
      ]
     },
     "execution_count": 6,
     "metadata": {},
     "output_type": "execute_result"
    }
   ],
   "source": [
    "import tracer.util\n",
    "reload(tracer.util)"
   ]
  },
  {
   "cell_type": "code",
   "execution_count": 7,
   "metadata": {
    "collapsed": false
   },
   "outputs": [
    {
     "data": {
      "text/plain": [
       "<module 'tracer.dll.TracerConfig' from 'S:\\Source\\tracer\\PythonApp\\lib\\tracer\\dll\\TracerConfig.pyc'>"
      ]
     },
     "execution_count": 7,
     "metadata": {},
     "output_type": "execute_result"
    }
   ],
   "source": [
    "reload(TracerConfig)"
   ]
  },
  {
   "cell_type": "code",
   "execution_count": 8,
   "metadata": {
    "collapsed": false
   },
   "outputs": [],
   "source": [
    "tracer_config = TracerConfig.load_tracer_config()"
   ]
  },
  {
   "cell_type": "code",
   "execution_count": 9,
   "metadata": {
    "collapsed": false
   },
   "outputs": [
    {
     "data": {
      "text/plain": [
       "u'S:\\\\trace'"
      ]
     },
     "execution_count": 9,
     "metadata": {},
     "output_type": "execute_result"
    }
   ],
   "source": [
    "tracer_config.Paths.BaseTraceDirectory"
   ]
  },
  {
   "cell_type": "code",
   "execution_count": 10,
   "metadata": {
    "collapsed": false
   },
   "outputs": [
    {
     "data": {
      "text/plain": [
       "{'BaseTraceDirectory': u'S:\\\\trace',\n",
       " 'DefaultPythonDirectory': '',\n",
       " 'InstallationDirectory': u'S:\\\\Source\\\\tracer',\n",
       " 'PythonDllPath': u'S:\\\\Source\\\\tracer\\\\x64\\\\Release\\\\Python.dll',\n",
       " 'PythonTracerDllPath': u'S:\\\\Source\\\\tracer\\\\x64\\\\Release\\\\PythonTracer.dll',\n",
       " 'RtlDllPath': u'S:\\\\Source\\\\tracer\\\\x64\\\\Release\\\\Rtl.dll',\n",
       " 'Size': 184,\n",
       " 'StringTableDllPath': u'S:\\\\Source\\\\tracer\\\\x64\\\\Release\\\\StringTable.dll',\n",
       " 'TlsTracerHeapDllPath': u'S:\\\\Source\\\\tracer\\\\x64\\\\Release\\\\TlsTracerHeap.dll',\n",
       " 'TraceStoreDllPath': u'S:\\\\Source\\\\tracer\\\\x64\\\\Release\\\\TraceStore.dll',\n",
       " 'TracedPythonSessionDllPath': u'S:\\\\Source\\\\tracer\\\\x64\\\\Release\\\\TracedPythonSession.dll',\n",
       " 'TracerHeapDllPath': u'S:\\\\Source\\\\tracer\\\\x64\\\\Release\\\\TracerHeap.dll'}"
      ]
     },
     "execution_count": 10,
     "metadata": {},
     "output_type": "execute_result"
    }
   ],
   "source": [
    "tracer_config.Paths._to_dict()"
   ]
  },
  {
   "cell_type": "code",
   "execution_count": 11,
   "metadata": {
    "collapsed": false
   },
   "outputs": [
    {
     "data": {
      "text/plain": [
       "{'Allocator': <tracer.dll.Allocator.LP_ALLOCATOR at 0x41ae7c8>,\n",
       " 'Flags': <TRACER_FLAGS DebugBreakOnEntry=0, LoadDebugLibraries=0, DisableTraceSessionDirectoryCompression=0, DisablePrefaultPages=0, EnableMemoryTracing=\"1\", EnableIoCounterTracing=\"1\", EnableHandleCountTracing=\"1\", DisableFileFlagOverlapped=0, DisableFileFlagSequentialScan=0, EnableFileFlagRandomAccess=0, EnableFileFlagWriteThrough=0>,\n",
       " 'ListEntry': <LIST_ENTRY Flink=None, Blink=None>,\n",
       " 'MaximumTraceStoreId': 0L,\n",
       " 'MaximumTraceStoreIndex': 0L,\n",
       " 'NumberOfElementsPerTraceStore': 0,\n",
       " 'Paths': <TRACER_PATHS Size=184, InstallationDirectory=\"S:\\Source\\tracer\", BaseTraceDirectory=\"S:\\trace\", DefaultPythonDirectory=\"\", RtlDllPath=\"S:\\Source\\tracer\\x64\\Release\\Rtl.dll\", PythonDllPath=\"S:\\Source\\tracer\\x64\\Release\\Python.dll\", TracerHeapDllPath=\"S:\\Source\\tracer\\x64\\Release\\TracerHeap.dll\", TraceStoreDllPath=\"S:\\Source\\tracer\\x64\\Release\\TraceStore.dll\", StringTableDllPath=\"S:\\Source\\tracer\\x64\\Release\\StringTable.dll\", PythonTracerDllPath=\"S:\\Source\\tracer\\x64\\Release\\PythonTracer.dll\", TlsTracerHeapDllPath=\"S:\\Source\\tracer\\x64\\Release\\TlsTracerHeap.dll\", TracedPythonSessionDllPath=\"S:\\Source\\tracer\\x64\\Release\\TracedPythonSession.dll\">,\n",
       " 'Size': 264,\n",
       " 'TlsTracerHeapModule': None,\n",
       " 'TraceSessionDirectories': <TRACE_SESSION_DIRECTORIES ListHead=\"<LIST_ENTRY Flink=\"80480664\", Blink=\"80480664\">\", Lock=None, Count=0>}"
      ]
     },
     "execution_count": 11,
     "metadata": {},
     "output_type": "execute_result"
    }
   ],
   "source": [
    "tracer_config._to_dict()"
   ]
  },
  {
   "cell_type": "code",
   "execution_count": null,
   "metadata": {
    "collapsed": true
   },
   "outputs": [],
   "source": []
  }
 ],
 "metadata": {
  "anaconda-cloud": {},
  "kernelspec": {
   "display_name": "Python [default]",
   "language": "python",
   "name": "python2"
  },
  "language_info": {
   "codemirror_mode": {
    "name": "ipython",
    "version": 2
   },
   "file_extension": ".py",
   "mimetype": "text/x-python",
   "name": "python",
   "nbconvert_exporter": "python",
   "pygments_lexer": "ipython2",
   "version": "2.7.12"
  }
 },
 "nbformat": 4,
 "nbformat_minor": 1
}
